{
 "cells": [
  {
   "cell_type": "code",
   "execution_count": 5,
   "id": "313d1615-a3b5-47c2-b54a-753f021d8403",
   "metadata": {},
   "outputs": [
    {
     "name": "stdout",
     "output_type": "stream",
     "text": [
      "Index(['headlines', 'description', 'content', 'url', 'category'], dtype='object')\n"
     ]
    }
   ],
   "source": [
    "import pandas as pd\n",
    "\n",
    "# Load the data\n",
    "df_train = pd.read_csv(\"data/train.csv\")\n",
    "\n",
    "# Display the column names to verify\n",
    "print(df_train.columns)\n"
   ]
  },
  {
   "cell_type": "code",
   "execution_count": 6,
   "id": "03602aa5-e96a-4df3-a617-7aaa7ab4e3ba",
   "metadata": {},
   "outputs": [],
   "source": [
    "import pandas as pd\n",
    "from sklearn.feature_extraction.text import TfidfVectorizer\n",
    "from sklearn.linear_model import LogisticRegression\n",
    "from sklearn.tree import DecisionTreeClassifier\n",
    "from sklearn.ensemble import RandomForestClassifier\n",
    "import pickle\n",
    "\n",
    "# Load the data\n",
    "df_train = pd.read_csv(\"data/train.csv\")\n",
    "\n",
    "# Vectorize the text data\n",
    "vectorizer = TfidfVectorizer()\n",
    "X_train = vectorizer.fit_transform(df_train['content'])  # Use 'content' for text data\n",
    "y_train = df_train['category']  # Use 'category' for labels\n",
    "\n",
    "# Train Logistic Regression model\n",
    "log_reg = LogisticRegression()\n",
    "log_reg.fit(X_train, y_train)\n",
    "\n",
    "# Train Decision Tree model\n",
    "decision_tree = DecisionTreeClassifier()\n",
    "decision_tree.fit(X_train, y_train)\n",
    "\n",
    "# Train Random Forest model\n",
    "random_forest = RandomForestClassifier()\n",
    "random_forest.fit(X_train, y_train)\n",
    "\n",
    "# Save the vectorizer\n",
    "with open('models/vectorizer.pkl', 'wb') as file:\n",
    "    pickle.dump(vectorizer, file)\n",
    "\n",
    "# Save the Logistic Regression model\n",
    "with open('models/logistic_regression.pkl', 'wb') as file:\n",
    "    pickle.dump(log_reg, file)\n",
    "\n",
    "# Save the Decision Tree model\n",
    "with open('models/decision_tree.pkl', 'wb') as file:\n",
    "    pickle.dump(decision_tree, file)\n",
    "\n",
    "# Save the Random Forest model\n",
    "with open('models/random_forest.pkl', 'wb') as file:\n",
    "    pickle.dump(random_forest, file)\n"
   ]
  },
  {
   "cell_type": "code",
   "execution_count": null,
   "id": "5594b21b-0b22-4d97-a00a-2d45c18e22a1",
   "metadata": {},
   "outputs": [],
   "source": []
  }
 ],
 "metadata": {
  "kernelspec": {
   "display_name": "Python 3 (ipykernel)",
   "language": "python",
   "name": "python3"
  },
  "language_info": {
   "codemirror_mode": {
    "name": "ipython",
    "version": 3
   },
   "file_extension": ".py",
   "mimetype": "text/x-python",
   "name": "python",
   "nbconvert_exporter": "python",
   "pygments_lexer": "ipython3",
   "version": "3.11.9"
  }
 },
 "nbformat": 4,
 "nbformat_minor": 5
}
