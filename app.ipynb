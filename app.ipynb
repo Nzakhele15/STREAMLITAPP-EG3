{
 "cells": [
  {
   "cell_type": "code",
   "execution_count": 4,
   "id": "f73c053f-c9c9-4218-8782-19c52fee9c9f",
   "metadata": {},
   "outputs": [
    {
     "name": "stderr",
     "output_type": "stream",
     "text": [
      "2024-07-04 08:02:36.702 No runtime found, using MemoryCacheStorageManager\n",
      "2024-07-04 08:02:36.782 No runtime found, using MemoryCacheStorageManager\n",
      "2024-07-04 08:02:37.608 Session state does not function when running a script without `streamlit run`\n"
     ]
    }
   ],
   "source": [
    "import streamlit as st\n",
    "import pandas as pd\n",
    "import matplotlib.pyplot as plt\n",
    "import seaborn as sns\n",
    "import pickle\n",
    "\n",
    "@st.cache_data\n",
    "def load_data():\n",
    "    df_test = pd.read_csv(\"data/test.csv\", index_col=False)\n",
    "    df_train = pd.read_csv(\"data/train.csv\", index_col=False)\n",
    "    return df_train, df_test\n",
    "\n",
    "df_train, df_test = load_data()\n",
    "\n",
    "@st.cache_resource\n",
    "def load_models():\n",
    "    model_paths = {\n",
    "        'Logistic Regression': 'models/logistic_regression.pkl',\n",
    "        'Decision Tree': 'models/decision_tree.pkl',\n",
    "        'Random Forest': 'models/random_forest.pkl'\n",
    "    }\n",
    "    models = {}\n",
    "    for name, path in model_paths.items():\n",
    "        with open(path, 'rb') as file:\n",
    "            models[name] = pickle.load(file)\n",
    "    return models\n",
    "\n",
    "models = load_models()\n",
    "\n",
    "@st.cache_resource\n",
    "def load_vectorizer():\n",
    "    with open('models/vectorizer.pkl', 'rb') as file:\n",
    "        vectorizer = pickle.load(file)\n",
    "    return vectorizer\n",
    "\n",
    "vectorizer = load_vectorizer()\n",
    "\n",
    "st.sidebar.title(\"Navigation\")\n",
    "options = st.sidebar.radio(\"Select a page:\", [\"Project Overview\", \"EDA\", \"Prediction\"])\n",
    "\n",
    "if options == \"Project Overview\":\n",
    "    st.title(\"Project Overview\")\n",
    "    st.write(\"\"\"\n",
    "    This project is about text classification using multiple models.\n",
    "    You can navigate to different pages using the sidebar.\n",
    "    \"\"\")\n",
    "\n",
    "elif options == \"EDA\":\n",
    "    st.title(\"Exploratory Data Analysis\")\n",
    "    \n",
    "    st.write(\"### Train Data Head\")\n",
    "    st.write(df_train.head())\n",
    "    \n",
    "    st.write(\"### Test Data Head\")\n",
    "    st.write(df_test.head())\n",
    "    \n",
    "    st.write(\"### Train Data Info\")\n",
    "    st.write(df_train.info())\n",
    "    \n",
    "    st.write(\"### Test Data Info\")\n",
    "    st.write(df_test.info())\n",
    "    \n",
    "    st.write(\"### Data Distribution\")\n",
    "    fig, ax = plt.subplots()\n",
    "    sns.histplot(df_train['category'], kde=False, ax=ax)  # Use 'category' instead of 'label'\n",
    "    st.pyplot(fig)\n",
    "\n",
    "elif options == \"Prediction\":\n",
    "    st.title(\"Text Classification\")\n",
    "    text_input = st.text_area(\"Enter text to classify:\")\n",
    "    model_choice = st.selectbox(\"Choose a model:\", list(models.keys()))\n",
    "\n",
    "    if st.button(\"Classify\"):\n",
    "        model = models[model_choice]\n",
    "        transformed_text = vectorizer.transform([text_input])\n",
    "        prediction = model.predict(transformed_text)\n",
    "        st.write(f\"The text is classified as: {prediction[0]}\")\n"
   ]
  },
  {
   "cell_type": "code",
   "execution_count": null,
   "id": "08486c6e-4e81-49a2-8e63-0b89aec9799d",
   "metadata": {},
   "outputs": [],
   "source": []
  }
 ],
 "metadata": {
  "kernelspec": {
   "display_name": "Python 3 (ipykernel)",
   "language": "python",
   "name": "python3"
  },
  "language_info": {
   "codemirror_mode": {
    "name": "ipython",
    "version": 3
   },
   "file_extension": ".py",
   "mimetype": "text/x-python",
   "name": "python",
   "nbconvert_exporter": "python",
   "pygments_lexer": "ipython3",
   "version": "3.11.9"
  }
 },
 "nbformat": 4,
 "nbformat_minor": 5
}
